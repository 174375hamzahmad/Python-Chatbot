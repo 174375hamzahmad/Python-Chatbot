{
 "cells": [
  {
   "cell_type": "markdown",
   "metadata": {},
   "source": [
    " ### Essential Libraries"
   ]
  },
  {
   "cell_type": "code",
   "execution_count": 1,
   "metadata": {},
   "outputs": [
    {
     "name": "stderr",
     "output_type": "stream",
     "text": [
      "C:\\Users\\Hamza-PC\\anaconda3\\lib\\site-packages\\tensorflow\\python\\framework\\dtypes.py:526: FutureWarning: Passing (type, 1) or '1type' as a synonym of type is deprecated; in a future version of numpy, it will be understood as (type, (1,)) / '(1,)type'.\n",
      "  _np_qint8 = np.dtype([(\"qint8\", np.int8, 1)])\n",
      "C:\\Users\\Hamza-PC\\anaconda3\\lib\\site-packages\\tensorflow\\python\\framework\\dtypes.py:527: FutureWarning: Passing (type, 1) or '1type' as a synonym of type is deprecated; in a future version of numpy, it will be understood as (type, (1,)) / '(1,)type'.\n",
      "  _np_quint8 = np.dtype([(\"quint8\", np.uint8, 1)])\n",
      "C:\\Users\\Hamza-PC\\anaconda3\\lib\\site-packages\\tensorflow\\python\\framework\\dtypes.py:528: FutureWarning: Passing (type, 1) or '1type' as a synonym of type is deprecated; in a future version of numpy, it will be understood as (type, (1,)) / '(1,)type'.\n",
      "  _np_qint16 = np.dtype([(\"qint16\", np.int16, 1)])\n",
      "C:\\Users\\Hamza-PC\\anaconda3\\lib\\site-packages\\tensorflow\\python\\framework\\dtypes.py:529: FutureWarning: Passing (type, 1) or '1type' as a synonym of type is deprecated; in a future version of numpy, it will be understood as (type, (1,)) / '(1,)type'.\n",
      "  _np_quint16 = np.dtype([(\"quint16\", np.uint16, 1)])\n",
      "C:\\Users\\Hamza-PC\\anaconda3\\lib\\site-packages\\tensorflow\\python\\framework\\dtypes.py:530: FutureWarning: Passing (type, 1) or '1type' as a synonym of type is deprecated; in a future version of numpy, it will be understood as (type, (1,)) / '(1,)type'.\n",
      "  _np_qint32 = np.dtype([(\"qint32\", np.int32, 1)])\n",
      "C:\\Users\\Hamza-PC\\anaconda3\\lib\\site-packages\\tensorflow\\python\\framework\\dtypes.py:535: FutureWarning: Passing (type, 1) or '1type' as a synonym of type is deprecated; in a future version of numpy, it will be understood as (type, (1,)) / '(1,)type'.\n",
      "  np_resource = np.dtype([(\"resource\", np.ubyte, 1)])\n"
     ]
    },
    {
     "name": "stdout",
     "output_type": "stream",
     "text": [
      "curses is not supported on this machine (please install/reinstall curses for an optimal experience)\n",
      "WARNING:tensorflow:From C:\\Users\\Hamza-PC\\anaconda3\\lib\\site-packages\\tensorflow\\python\\framework\\op_def_library.py:263: colocate_with (from tensorflow.python.framework.ops) is deprecated and will be removed in a future version.\n",
      "Instructions for updating:\n",
      "Colocations handled automatically by placer.\n"
     ]
    }
   ],
   "source": [
    "import nltk\n",
    "from nltk.stem.lancaster import LancasterStemmer #for stemming of words\n",
    "stemmer=LancasterStemmer\n",
    "\n",
    "import tensorflow\n",
    "import random\n",
    "import json\n",
    "import numpy\n",
    "import tflearn\n",
    "import pickle"
   ]
  },
  {
   "cell_type": "markdown",
   "metadata": {},
   "source": [
    "### Loading data from json file"
   ]
  },
  {
   "cell_type": "code",
   "execution_count": 2,
   "metadata": {},
   "outputs": [],
   "source": [
    "#loading json file through library\n",
    "with open(\"c++_assignment.json\") as file:\n",
    "    data = json.load(file)\n",
    "#we'll be training our model on this data"
   ]
  },
  {
   "cell_type": "markdown",
   "metadata": {},
   "source": [
    "### Tokenizing data for further use"
   ]
  },
  {
   "cell_type": "code",
   "execution_count": 3,
   "metadata": {},
   "outputs": [],
   "source": [
    "#creating empty lists to store tokenized data\n",
    "words=[]\n",
    "labels=[]\n",
    "docs_x=[]\n",
    "docs_y=[]\n",
    "\n",
    "for intent in data[\"intents\"]:\n",
    "    for pattern in intent[\"patterns\"]:\n",
    "        #tokenizing each word in pattern\n",
    "        wrds= nltk.word_tokenize(pattern)\n",
    "        #adding words to words list\n",
    "        words.extend(wrds)\n",
    "        \n",
    "        docs_x.append(wrds)\n",
    "       # print(docs_x)\n",
    "        docs_y.append(intent[\"tag\"])\n",
    "       # print(docs_y)\n",
    "        \n",
    "    if intent[\"tag\"] not in labels:\n",
    "        labels.append(intent[\"tag\"])\n",
    "        "
   ]
  },
  {
   "cell_type": "markdown",
   "metadata": {},
   "source": [
    "### Stemming & Removing duplicates"
   ]
  },
  {
   "cell_type": "code",
   "execution_count": 4,
   "metadata": {},
   "outputs": [],
   "source": [
    "obj=stemmer()\n",
    "words = [obj.stem(w.lower()) for w in words if w!=\"?\"]\n",
    "words = sorted(list(set(words)))\n",
    "labels = sorted(labels)"
   ]
  },
  {
   "cell_type": "markdown",
   "metadata": {},
   "source": [
    "### One-Hot Encoding"
   ]
  },
  {
   "cell_type": "code",
   "execution_count": 5,
   "metadata": {},
   "outputs": [],
   "source": [
    "training = []\n",
    "output = []\n",
    "\n",
    "out_empty=[0 for _ in range(len(labels))]\n",
    "\n",
    "#x=0,1,2... doc= words\n",
    "for x,doc in enumerate(docs_x):\n",
    "    bag = []\n",
    "    \n",
    "    wrds = [obj.stem(w) for w in doc]\n",
    "    \n",
    "    \n",
    "    for w in words:\n",
    "        if w in wrds: \n",
    "            bag.append(1)\n",
    "        else:\n",
    "            bag.append(0)\n",
    "            \n",
    "    output_row = out_empty[:]\n",
    "    output_row[labels.index(docs_y[x])]=1\n",
    "    training.append(bag)\n",
    "    output.append(output_row)\n",
    "\n",
    "   \n",
    "\n",
    "    \n",
    "        "
   ]
  },
  {
   "cell_type": "markdown",
   "metadata": {},
   "source": [
    "### Converting data to numpy arrays for tflearn"
   ]
  },
  {
   "cell_type": "code",
   "execution_count": 6,
   "metadata": {},
   "outputs": [],
   "source": [
    "training = numpy.array(training)\n",
    "output=numpy.array(output)  \n"
   ]
  },
  {
   "cell_type": "markdown",
   "metadata": {},
   "source": [
    "### Setting up our neural network"
   ]
  },
  {
   "cell_type": "code",
   "execution_count": 7,
   "metadata": {},
   "outputs": [
    {
     "name": "stdout",
     "output_type": "stream",
     "text": [
      "Training Step: 5999  | total loss: \u001b[1m\u001b[32m1.43330\u001b[0m\u001b[0m | time: 0.012s\n",
      "| Adam | epoch: 1000 | loss: 1.43330 - acc: 0.9094 -- iter: 40/48\n",
      "Training Step: 6000  | total loss: \u001b[1m\u001b[32m1.29384\u001b[0m\u001b[0m | time: 0.014s\n",
      "| Adam | epoch: 1000 | loss: 1.29384 - acc: 0.9185 -- iter: 48/48\n",
      "--\n",
      "INFO:tensorflow:C:\\Users\\Hamza-PC\\Desktop\\Chatbot_AI\\model.tflearn is not in all_model_checkpoint_paths. Manually adding it.\n"
     ]
    }
   ],
   "source": [
    "tensorflow.reset_default_graph() #Reset Underlying Graph data\n",
    "\n",
    "#Building our own Neural Network\n",
    "net = tflearn.input_data(shape=[None, len(training[0])])\n",
    "net = tflearn.fully_connected(net, 8)\n",
    "net = tflearn.fully_connected(net, 8)\n",
    "net = tflearn.fully_connected(net, len(output[0]), activation=\"softmax\")\n",
    "net = tflearn.regression(net)\n",
    "\n",
    "#Defining Model and setting up tensorboard\n",
    "model = tflearn.DNN(net, tensorboard_dir=\"tflearn_logs\") \n",
    "\n",
    "#Now we have setup model, now we need to train that model by fitting data into it by model.fit()\n",
    "#n_epoch is the number of times that model will se our data during training\n",
    "\n",
    "model.fit(training, output, n_epoch=1000, batch_size=8, show_metric=True) \n",
    "model.save(\"model.tflearn\") #Saving the model"
   ]
  },
  {
   "cell_type": "markdown",
   "metadata": {},
   "source": [
    "### prediction of user input"
   ]
  },
  {
   "cell_type": "code",
   "execution_count": 8,
   "metadata": {},
   "outputs": [],
   "source": [
    "#Cleaning User Input\n",
    "def bag_of_words(sentence,words):\n",
    "    \n",
    "    bag = [0 for _ in range(len(words))]\n",
    "    \n",
    "    # Tokenizing the pattern\n",
    "    sentence_words = nltk.word_tokenize(sentence) #Again tokenizing the sentence\n",
    "    \n",
    "    #Stemming each word from the user's input\n",
    "    sentence_words= [obj.stem(word.lower()) for word in sentence_words]\n",
    "\n",
    "    for s in sentence_words:\n",
    "        for i,w in enumerate(words):\n",
    "            if w == s:\n",
    "                bag[i]=1\n",
    "    \n",
    "    return numpy.array(bag)\n",
    "\n",
    "def chat():\n",
    "    print(\"Start talking to bot and get your queries resolved!(Enter 'quit' to STOP CHATTING)\")\n",
    "    while True:\n",
    "        inputt=input(\"You: \")\n",
    "        if inputt.lower()==\"quit\":\n",
    "            break\n",
    "        \n",
    "        results = model.predict([bag_of_words(inputt,words)])[0]\n",
    "        results_index=numpy.argmax(results)\n",
    "        \n",
    "        tag = labels[results_index]\n",
    "        \n",
    "        if results[results_index] > 0.5:\n",
    "            for tg in data[\"intents\"]:\n",
    "                if tg['tag'] == tag:\n",
    "                    responses = tg['responses']\n",
    "                \n",
    "            print(random.choice(responses))\n",
    "        else:\n",
    "            print(\"Sorry i didn't get that. Try again! \")\n",
    "             \n",
    "        \n",
    "                \n",
    "                 \n",
    "    "
   ]
  },
  {
   "cell_type": "markdown",
   "metadata": {},
   "source": [
    "### Main"
   ]
  },
  {
   "cell_type": "code",
   "execution_count": 9,
   "metadata": {},
   "outputs": [
    {
     "name": "stdout",
     "output_type": "stream",
     "text": [
      "Start talking to bot and get your queries resolved!(Enter 'quit' to STOP CHATTING)\n",
      "You: hi\n",
      "Hi there, how can I help?\n",
      "You: your name?\n",
      "I'm hamza!\n",
      "You: what is your age?\n",
      "21 years young!\n",
      "You: why were you made?\n",
      "i was made to help you in c++ assignments\n",
      "You: how to write my first c++ code?\n",
      "https://www.geeksforgeeks.org/writing-first-c-program-hello-world-example/\n",
      "You: how to store data?\n",
      "https://www.geeksforgeeks.org/data-structures/\n",
      "You: how to play with pointers?\n",
      "https://www.geeksforgeeks.org/pointers-in-c-and-c-set-1-introduction-arithmetic-and-array/\n",
      "You: how to write conditional statements?\n",
      "https://www.geeksforgeeks.org/decision-making-c-c-else-nested-else/\n",
      "You: ddadsda\n",
      "Hello!\n",
      "You: quit\n"
     ]
    }
   ],
   "source": [
    "chat()"
   ]
  },
  {
   "cell_type": "code",
   "execution_count": null,
   "metadata": {},
   "outputs": [],
   "source": []
  }
 ],
 "metadata": {
  "kernelspec": {
   "display_name": "Python 3",
   "language": "python",
   "name": "python3"
  },
  "language_info": {
   "codemirror_mode": {
    "name": "ipython",
    "version": 3
   },
   "file_extension": ".py",
   "mimetype": "text/x-python",
   "name": "python",
   "nbconvert_exporter": "python",
   "pygments_lexer": "ipython3",
   "version": "3.7.6"
  }
 },
 "nbformat": 4,
 "nbformat_minor": 4
}
